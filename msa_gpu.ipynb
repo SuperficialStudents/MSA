{
 "cells": [
  {
   "cell_type": "code",
   "execution_count": 1,
   "id": "f13c6d2a-f1fa-4370-9d67-14afb209c084",
   "metadata": {},
   "outputs": [],
   "source": [
    "import torch\n",
    "import torchquantum as tq\n",
    "from MSA.tqm_fix import qiskit2tq_op_history, VQE\n",
    "from MSA.utils import MSAINFO, getHamiltonianDiag, draw_from_dict\n",
    "from qiskit import QuantumCircuit, Aer\n",
    "from qiskit.circuit import ParameterVector\n",
    "import numpy as np\n",
    "from torchquantum.plugin import tq2qiskit\n",
    "from MSA.utils import unparameterized2parameterized\n"
   ]
  },
  {
   "cell_type": "markdown",
   "id": "1f70aede",
   "metadata": {},
   "source": [
    "## Initialization"
   ]
  },
  {
   "cell_type": "code",
   "execution_count": 2,
   "id": "ec4fc3ad",
   "metadata": {},
   "outputs": [],
   "source": [
    "seqs = ['AG', 'G']\n",
    "# seqs = ['ACG', 'AG', 'A']\n",
    "# seqs = ['ACGG', 'AGG', 'AT']\n",
    "# seqs = ['ACGG', 'AG', 'AT', 'C']\n",
    "# seqs = ['ACGGT', 'AGG', 'AT', 'CT']"
   ]
  },
  {
   "cell_type": "code",
   "execution_count": 3,
   "id": "91085d91-ec55-4189-b297-a8b8a5b17b6e",
   "metadata": {},
   "outputs": [],
   "source": [
    "msa = MSAINFO(seqs, p=1)"
   ]
  },
  {
   "cell_type": "markdown",
   "id": "7351624a",
   "metadata": {},
   "source": [
    "## Get Hamiltonian"
   ]
  },
  {
   "cell_type": "code",
   "execution_count": 4,
   "id": "b76a6998",
   "metadata": {},
   "outputs": [],
   "source": [
    "H = torch.tensor(getHamiltonianDiag(msa), dtype=torch.complex64)"
   ]
  },
  {
   "cell_type": "markdown",
   "id": "b8e4f724-c39d-458d-b36c-176c6bfda8c9",
   "metadata": {},
   "source": [
    "### get Paulis Decomposition (if use the VQE in torchquantum.algorithm)"
   ]
  },
  {
   "cell_type": "code",
   "execution_count": 5,
   "id": "33802d95",
   "metadata": {},
   "outputs": [],
   "source": [
    "from MSA.hamiltonian import Hamiltonian2PauliString\n",
    "from MSA.tqm_fix import Hamiltonian\n",
    "import os, pickle"
   ]
  },
  {
   "cell_type": "code",
   "execution_count": 6,
   "id": "85f13320-b2d9-444f-9277-a40dbb595b9d",
   "metadata": {},
   "outputs": [],
   "source": [
    "if os.path.exists(f'./Hamiltonian/PaulisDecom{msa.encoding_dims}.pkl'):\n",
    "    with open(f'./Hamiltonian/PaulisDecom{msa.encoding_dims}.pkl', 'rb') as f:\n",
    "        paulis_operators = pickle.load(f)\n",
    "else:\n",
    "    device = torch.device(\"cuda:0\" if torch.cuda.is_available() else \"cpu\")\n",
    "    H2P = Hamiltonian2PauliString()\n",
    "    h2p = H2P.to(device)\n",
    "\n",
    "    H = torch.tensor(getHamiltonianDiag(msa))\n",
    "    H = H.to(device)\n",
    "\n",
    "    paulis_operators = h2p(H)\n",
    "    with open(f'./Hamiltonian/PaulisDecom{msa.encoding_dims}.pkl', 'wb') as f:\n",
    "        pickle.dump(paulis_operators, f)\n",
    "\n",
    "hamil = Hamiltonian(list(paulis_operators.values()), list(paulis_operators.keys()))"
   ]
  },
  {
   "cell_type": "markdown",
   "id": "7b48b9ea-2c79-43f8-a413-4c055be4772a",
   "metadata": {},
   "source": [
    "## Construct Ansatz"
   ]
  },
  {
   "cell_type": "code",
   "execution_count": 7,
   "id": "584e746f-6b4c-49e5-974c-aa6df1722112",
   "metadata": {},
   "outputs": [
    {
     "data": {
      "image/png": "[encoded data removed]",
      "text/plain": [
       "<Figure size 454.719x367.889 with 1 Axes>"
      ]
     },
     "execution_count": 7,
     "metadata": {},
     "output_type": "execute_result"
    }
   ],
   "source": [
    "n_layers = 1\n",
    "n_qubits = msa.encoding_dims\n",
    "circ = QuantumCircuit(n_qubits)\n",
    "pv = ParameterVector(\"p\", (n_layers + 1) * n_qubits)\n",
    "for i in range(n_qubits):\n",
    "    circ.ry(pv[i], i)\n",
    "for j in range(n_layers):\n",
    "    for i in range(n_qubits // 2):\n",
    "        circ.cnot(2*i, 2*i+1)\n",
    "    if n_qubits % 2 == 0:\n",
    "        for i in range(n_qubits // 2-1):\n",
    "            circ.cnot(2*i+1, 2*i+2)\n",
    "    else:\n",
    "        for i in range(n_qubits // 2):\n",
    "            circ.cnot(2*i+1, 2*i+2)\n",
    "    for i in range(n_qubits):\n",
    "        circ.ry(pv[(j+1)*n_qubits + i], i)\n",
    "circ.draw()"
   ]
  },
  {
   "cell_type": "code",
   "execution_count": 8,
   "id": "61bf906e",
   "metadata": {},
   "outputs": [],
   "source": [
    "circ = circ.bind_parameters(np.random.random(circ.num_parameters))\n",
    "ops = qiskit2tq_op_history(circ)\n",
    "ansatz = tq.QuantumModule.from_op_history(ops)\n",
    "ansatz.n_wires = circ.num_qubits"
   ]
  },
  {
   "cell_type": "markdown",
   "id": "fe256867-31de-49f8-bd4b-ce09cec3db2a",
   "metadata": {},
   "source": [
    "## VQE"
   ]
  },
  {
   "cell_type": "code",
   "execution_count": 9,
   "id": "431b4e4a-aa88-4543-a1e4-78a5be0e1fff",
   "metadata": {},
   "outputs": [],
   "source": [
    "configs = {\n",
    "    \"n_epochs\": 5,\n",
    "    \"n_steps\": 10,\n",
    "    \"optimizer\": \"Adam\",\n",
    "    \"scheduler\": \"CosineAnnealingLR\",\n",
    "    \"lr\": 0.5,\n",
    "    \"device\": \"cuda\",\n",
    "}"
   ]
  },
  {
   "cell_type": "code",
   "execution_count": 10,
   "id": "15b658c3-8082-4847-8e01-66f9e69ce5b7",
   "metadata": {},
   "outputs": [],
   "source": [
    "vqe = VQE(\n",
    "    hamil=H,\n",
    "    ansatz=ansatz,\n",
    "    train_configs=configs,\n",
    ")"
   ]
  },
  {
   "cell_type": "code",
   "execution_count": 11,
   "id": "1bbe5027-dc44-46c7-8722-b0c722047e70",
   "metadata": {},
   "outputs": [
    {
     "name": "stdout",
     "output_type": "stream",
     "text": [
      "Epoch: 0, Step: 0, Loss: 3.8093090057373047\n",
      "Epoch: 0, Step: 1, Loss: 2.0247716903686523\n",
      "Epoch: 0, Step: 2, Loss: 1.2668218612670898\n",
      "Epoch: 0, Step: 3, Loss: 1.1423637866973877\n",
      "Epoch: 0, Step: 4, Loss: 1.1532971858978271\n",
      "Epoch: 0, Step: 5, Loss: 1.1711657047271729\n",
      "Epoch: 0, Step: 6, Loss: 1.1580960750579834\n",
      "Epoch: 0, Step: 7, Loss: 1.114060878753662\n",
      "Epoch: 0, Step: 8, Loss: 1.0629359483718872\n",
      "Epoch: 0, Step: 9, Loss: 1.0545557737350464\n",
      "Epoch: 1, Step: 0, Loss: 1.0898208618164062\n",
      "Epoch: 1, Step: 1, Loss: 1.122305154800415\n",
      "Epoch: 1, Step: 2, Loss: 1.1408849954605103\n",
      "Epoch: 1, Step: 3, Loss: 1.141893982887268\n",
      "Epoch: 1, Step: 4, Loss: 1.1154505014419556\n",
      "Epoch: 1, Step: 5, Loss: 1.0505256652832031\n",
      "Epoch: 1, Step: 6, Loss: 0.921856164932251\n",
      "Epoch: 1, Step: 7, Loss: 0.6591113805770874\n",
      "Epoch: 1, Step: 8, Loss: 0.18712520599365234\n",
      "Epoch: 1, Step: 9, Loss: -0.3904964029788971\n",
      "Epoch: 2, Step: 0, Loss: -0.7214018106460571\n",
      "Epoch: 2, Step: 1, Loss: -0.7619173526763916\n",
      "Epoch: 2, Step: 2, Loss: -0.7930952906608582\n",
      "Epoch: 2, Step: 3, Loss: -0.8429564833641052\n",
      "Epoch: 2, Step: 4, Loss: -0.8696150183677673\n",
      "Epoch: 2, Step: 5, Loss: -0.8670158386230469\n",
      "Epoch: 2, Step: 6, Loss: -0.8633004426956177\n",
      "Epoch: 2, Step: 7, Loss: -0.8698000907897949\n",
      "Epoch: 2, Step: 8, Loss: -0.8908258676528931\n",
      "Epoch: 2, Step: 9, Loss: -0.9241103529930115\n",
      "Epoch: 3, Step: 0, Loss: -0.9461575150489807\n",
      "Epoch: 3, Step: 1, Loss: -0.9528135657310486\n",
      "Epoch: 3, Step: 2, Loss: -0.960630476474762\n",
      "Epoch: 3, Step: 3, Loss: -0.9663820266723633\n",
      "Epoch: 3, Step: 4, Loss: -0.9656310677528381\n",
      "Epoch: 3, Step: 5, Loss: -0.9578860402107239\n",
      "Epoch: 3, Step: 6, Loss: -0.9486685395240784\n",
      "Epoch: 3, Step: 7, Loss: -0.9455385804176331\n",
      "Epoch: 3, Step: 8, Loss: -0.9520210027694702\n",
      "Epoch: 3, Step: 9, Loss: -0.9656082987785339\n",
      "Epoch: 4, Step: 0, Loss: -0.9806245565414429\n",
      "Epoch: 4, Step: 1, Loss: -0.9845470190048218\n",
      "Epoch: 4, Step: 2, Loss: -0.9884987473487854\n",
      "Epoch: 4, Step: 3, Loss: -0.9921329617500305\n",
      "Epoch: 4, Step: 4, Loss: -0.9951483011245728\n",
      "Epoch: 4, Step: 5, Loss: -0.9973313808441162\n",
      "Epoch: 4, Step: 6, Loss: -0.9985904097557068\n",
      "Epoch: 4, Step: 7, Loss: -0.9989677667617798\n",
      "Epoch: 4, Step: 8, Loss: -0.9986293315887451\n",
      "Epoch: 4, Step: 9, Loss: -0.9978249669075012\n"
     ]
    },
    {
     "data": {
      "text/plain": [
       "-0.9978249669075012"
      ]
     },
     "execution_count": 11,
     "metadata": {},
     "output_type": "execute_result"
    }
   ],
   "source": [
    "vqe.train()"
   ]
  },
  {
   "cell_type": "markdown",
   "id": "f1cea1fc-68b5-4cf1-883e-6d9fc64ac4c1",
   "metadata": {},
   "source": [
    "## Visualization"
   ]
  },
  {
   "cell_type": "code",
   "execution_count": 12,
   "id": "d8b9886b-2de7-4808-8602-b369443dfd92",
   "metadata": {},
   "outputs": [],
   "source": [
    "optimal_circuit = tq2qiskit(tq.QuantumDevice(n_wires=msa.encoding_dims), ansatz, draw=False)\n",
    "# circ_structure, optimal_params = unparameterized2parameterized(optimal_circuit, name='theta')\n",
    "optimal_circuit.measure_all()"
   ]
  },
  {
   "cell_type": "code",
   "execution_count": 13,
   "id": "fee64ed3-8bff-4c06-bf7d-baf28f830972",
   "metadata": {},
   "outputs": [
    {
     "data": {
      "text/plain": [
       "{'1011': 4991, '1101': 3, '1010': 4, '0011': 1, '1111': 1}"
      ]
     },
     "execution_count": 13,
     "metadata": {},
     "output_type": "execute_result"
    }
   ],
   "source": [
    "backend = Aer.get_backend('qasm_simulator')\n",
    "res = backend.run(optimal_circuit.decompose(reps=3), shots=5000).result()\n",
    "counts = res.get_counts()\n",
    "counts"
   ]
  },
  {
   "cell_type": "code",
   "execution_count": 14,
   "id": "34c36390",
   "metadata": {},
   "outputs": [
    {
     "data": {
      "image/png": "[encoded data removed]",
      "text/plain": [
       "<Figure size 900x900 with 1 Axes>"
      ]
     },
     "metadata": {},
     "output_type": "display_data"
    }
   ],
   "source": [
    "draw_from_dict(counts, ideal_state=['1101'[::-1]], feasible_state=['1110'[::-1]], reps=1, is_save=False, heng=1)"
   ]
  },
  {
   "cell_type": "code",
   "execution_count": null,
   "id": "1632a770",
   "metadata": {},
   "outputs": [],
   "source": []
  },
  {
   "cell_type": "code",
   "execution_count": null,
   "id": "37d1e7c6-c318-4f43-b094-3e99d9c12f02",
   "metadata": {},
   "outputs": [],
   "source": []
  }
 ],
 "metadata": {
  "kernelspec": {
   "display_name": "Python 3 (ipykernel)",
   "language": "python",
   "name": "python3"
  },
  "language_info": {
   "codemirror_mode": {
    "name": "ipython",
    "version": 3
   },
   "file_extension": ".py",
   "mimetype": "text/x-python",
   "name": "python",
   "nbconvert_exporter": "python",
   "pygments_lexer": "ipython3",
   "version": "3.8.18"
  }
 },
 "nbformat": 4,
 "nbformat_minor": 5
}
